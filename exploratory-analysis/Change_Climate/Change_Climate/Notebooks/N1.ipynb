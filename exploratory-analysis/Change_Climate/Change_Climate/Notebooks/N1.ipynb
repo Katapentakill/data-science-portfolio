{
 "cells": [
  {
   "cell_type": "markdown",
   "metadata": {},
   "source": [
    "# Estudio cambio climatico"
   ]
  },
  {
   "cell_type": "markdown",
   "metadata": {},
   "source": [
    "Este es mi estudio de cambio climatico, no tengo un objetivo claro aun, pero estos objetivos los ire tomando al analizar los datos, dado a que no conozco el futuro de este estudio y su potencial, dado a que ire agregando cada vez mas variables de cambio climatico y sequia en distintos puntos de la tierra, que daran una idea general."
   ]
  },
  {
   "cell_type": "markdown",
   "metadata": {},
   "source": [
    "Ademas de querer indagar mas sobre las sequias su impacto, causas, consecuencias a futuro y soluciones"
   ]
  },
  {
   "cell_type": "markdown",
   "metadata": {},
   "source": [
    "# Hourly Parameter Definition\n",
    "\n",
    "| Variable                              | Valid Time         | Unit (°C/°F)       | Description                                                                                                                                                        | Used   |\n",
    "|---------------------------------------|--------------------|--------------------|--------------------------------------------------------------------------------------------------------------------------------------------------------------------|--------|\n",
    "| temperature_2m                        | Instant            | °C (°F)            | Air temperature at 2 meters above ground                                                                                                                           | True   |\n",
    "| relative_humidity_2m                  | Instant            | %                  | Relative humidity at 2 meters above ground                                                                                                                         | True   |\n",
    "| dew_point_2m                          | Instant            | °C (°F)            | Dew point temperature at 2 meters above ground                                                                                                                     | True   |\n",
    "| apparent_temperature                  | Instant            | °C (°F)            | Apparent temperature is the perceived feels-like temperature combining wind chill factor, relative humidity, and solar radiation                                    | False  |\n",
    "| pressure_msl                          | Instant            | hPa                | Atmospheric air pressure reduced to mean sea level (msl) or pressure at surface. Typically pressure on mean sea level is used in meteorology.                     | False  |\n",
    "| surface_pressure                      | Instant            | hPa                | Surface pressure gets lower with increasing elevation                                                                                                              | False  |\n",
    "| precipitation                         | Preceding hour sum | mm (inch)          | Total precipitation (rain, showers, snow) sum of the preceding hour                                                                                              | True   |\n",
    "| rain                                  | Preceding hour sum | mm (inch)          | Only liquid precipitation of the preceding hour including local showers and rain from large scale systems.                                                        | True   |\n",
    "| snowfall                              | Preceding hour sum | cm (inch)          | Snowfall amount of the preceding hour in centimeters. For the water equivalent in millimeter, divide by 7.                                                         | False  |\n",
    "| cloud_cover                           | Instant            | %                  | Total cloud cover as an area fraction                                                                                                                                 | False  |\n",
    "| cloud_cover_low                       | Instant            | %                  | Low level clouds and fog up to 2 km altitude                                                                                                                        | False  |\n",
    "| cloud_cover_mid                       | Instant            | %                  | Mid level clouds from 2 to 6 km altitude                                                                                                                             | False  |\n",
    "| cloud_cover_high                      | Instant            | %                  | High level clouds from 6 km altitude                                                                                                                                | False  |\n",
    "| shortwave_radiation                   | Preceding hour mean| W/m²               | Shortwave solar radiation as average of the preceding hour. This is equal to the total global horizontal irradiation                                            | False  |\n",
    "| direct_radiation                       | Preceding hour mean| W/m²               | Direct solar radiation as average of the preceding hour on the horizontal plane and the normal plane (perpendicular to the sun)                                     | False  |\n",
    "| direct_normal_irradiance              | Preceding hour mean| W/m²               | Direct solar radiation as average of the preceding hour on the horizontal plane and the normal plane (perpendicular to the sun)                                     | False  |\n",
    "| diffuse_radiation                     | Preceding hour mean| W/m²               | Diffuse solar radiation as average of the preceding hour                                                                                                           | False  |\n",
    "| global_tilted_irradiance              | Preceding hour mean| W/m²               | Total radiation received on a tilted pane as average of the preceding hour. The calculation assumes a fixed albedo of 20%                                          | False  |\n",
    "| sunshine_duration                     | Preceding hour sum | Seconds            | Number of seconds of sunshine of the preceding hour per hour calculated by direct normalized irradiance exceeding 120 W/m²                                         | False  |\n",
    "| wind_speed_10m                        | Instant            | km/h (mph, m/s, knots)| Wind speed at 10 or 100 meters above ground                                                                                                                        | False  |\n",
    "| wind_speed_100m                       | Instant            | km/h (mph, m/s, knots)| Wind speed at 10 or 100 meters above ground                                                                                                                        | False  |\n",
    "| wind_direction_10m                    | Instant            | °                  | Wind direction at 10 or 100 meters above ground                                                                                                                     | False  |\n",
    "| wind_direction_100m                   | Instant            | °                  | Wind direction at 10 or 100 meters above ground                                                                                                                     | False  |\n",
    "| wind_gusts_10m                        | Instant            | km/h (mph, m/s, knots)| Gusts at 10 meters above ground of the indicated hour                                                                                                              | False  |\n",
    "| et0_fao_evapotranspiration            | Preceding hour sum | mm (inch)          | ET₀ Reference Evapotranspiration of a well-watered grass field. Based on FAO-56 Penman-Monteith equations                                                          | True   |\n",
    "| weather_code                          | Instant            | WMO code           | Weather condition as a numeric code. Follow WMO weather interpretation codes. See table below for details.                                                      | False  |\n",
    "| snow_depth                            | Instant            | meters             | Snow depth on the ground                                                                                                                                           | False  |\n",
    "| vapour_pressure_deficit               | Instant            | kPa                | Vapor Pressure Deficit (VPD) in kilopascal (kPa). For high VPD (>1.6), water transpiration of plants increases.                                                  | True   |\n",
    "| soil_temperature_0_to_7cm             | Instant            | °C (°F)            | Average temperature of soil at 0-7 cm depth below ground                                                                                                           | False  |\n",
    "| soil_temperature_7_to_28cm            | Instant            | °C (°F)            | Average temperature of soil at 7-28 cm depth below ground                                                                                                          | False  |\n",
    "| soil_temperature_28_to_100cm          | Instant            | °C (°F)            | Average temperature of soil at 28-100 cm depth below ground                                                                                                        | False  |\n",
    "| soil_temperature_100_to_255cm         | Instant            | °C (°F)            | Average temperature of soil at 100-255 cm depth below ground                                                                                                       | False  |\n",
    "| soil_moisture_0_to_7cm               | Instant            | m³/m³              | Average soil water content as volumetric mixing ratio at 0-7 cm depth below ground                                                                                | False  |\n",
    "| soil_moisture_7_to_28cm              | Instant            | m³/m³              | Average soil water content as volumetric mixing ratio at 7-28 cm depth below ground                                                                               | False  |\n",
    "| soil_moisture_28_to_100cm            | Instant            | m³/m³              | Average soil water content as volumetric mixing ratio at 28-100 cm depth below ground                                                                             | False  |\n",
    "| soil_moisture_100_to_255cm           | Instant            | m³/m³              | Average soil water content as volumetric mixing ratio at 100-255 cm depth below ground                                                                           | False  |"
   ]
  },
  {
   "cell_type": "markdown",
   "metadata": {},
   "source": [
    "# Definición de Parámetros por Hora\n",
    "\n",
    "| Variable                              | Tiempo Válido        | Unidad (°C/°F)      | Descripción                                                                                                                                                         | Usado   |\n",
    "|---------------------------------------|----------------------|---------------------|---------------------------------------------------------------------------------------------------------------------------------------------------------------------|---------|\n",
    "| temperature_2m                        | Instantáneo          | °C (°F)             | Temperatura del aire a 2 metros sobre el nivel del suelo                                                                                                           | Verdadero |\n",
    "| relative_humidity_2m                  | Instantáneo          | %                   | Humedad relativa a 2 metros sobre el nivel del suelo                                                                                                               | Verdadero |\n",
    "| dew_point_2m                          | Instantáneo          | °C (°F)             | Temperatura del punto de rocío a 2 metros sobre el nivel del suelo                                                                                                 | Verdadero |\n",
    "| apparent_temperature                  | Instantáneo          | °C (°F)             | Temperatura aparente es la temperatura percibida combinando el factor de enfriamiento por viento, la humedad relativa y la radiación solar                           | Falso   |\n",
    "| pressure_msl                          | Instantáneo          | hPa                 | Presión atmosférica reducida al nivel medio del mar (msl) o presión en la superficie. Generalmente se usa la presión en el nivel medio del mar en meteorología.   | Falso   |\n",
    "| surface_pressure                      | Instantáneo          | hPa                 | La presión en la superficie disminuye con la elevación                                                                                                            | Falso   |\n",
    "| precipitation                         | Suma de la hora anterior | mm (pulg)          | Precipitación total (lluvia, chubascos, nieve) de la hora anterior                                                                                                | Verdadero |\n",
    "| rain                                  | Suma de la hora anterior | mm (pulg)          | Solo precipitación líquida de la hora anterior incluyendo chubascos locales y lluvia de sistemas de gran escala.                                                   | Verdadero |\n",
    "| snowfall                              | Suma de la hora anterior | cm (pulg)          | Cantidad de nieve de la hora anterior en centímetros. Para el equivalente en agua en milímetros, dividir por 7.                                                    | Falso   |\n",
    "| cloud_cover                           | Instantáneo          | %                   | Cobertura total de nubes como una fracción del área                                                                                                               | Falso   |\n",
    "| cloud_cover_low                       | Instantáneo          | %                   | Nubes de bajo nivel y niebla hasta 2 km de altitud                                                                                                                 | Falso   |\n",
    "| cloud_cover_mid                       | Instantáneo          | %                   | Nubes de nivel medio de 2 a 6 km de altitud                                                                                                                         | Falso   |\n",
    "| cloud_cover_high                      | Instantáneo          | %                   | Nubes de alto nivel a partir de 6 km de altitud                                                                                                                   | Falso   |\n",
    "| shortwave_radiation                   | Promedio de la hora anterior | W/m²              | Radiación solar de onda corta como promedio de la hora anterior. Esto es igual a la irradiación global horizontal total                                          | Falso   |\n",
    "| direct_radiation                       | Promedio de la hora anterior | W/m²              | Radiación solar directa como promedio de la hora anterior en el plano horizontal y el plano normal (perpendicular al sol)                                          | Falso   |\n",
    "| direct_normal_irradiance              | Promedio de la hora anterior | W/m²              | Radiación solar directa como promedio de la hora anterior en el plano horizontal y el plano normal (perpendicular al sol)                                          | Falso   |\n",
    "| diffuse_radiation                     | Promedio de la hora anterior | W/m²              | Radiación solar difusa como promedio de la hora anterior                                                                                                           | Falso   |\n",
    "| global_tilted_irradiance              | Promedio de la hora anterior | W/m²              | Radiación total recibida en un panel inclinado como promedio de la hora anterior. El cálculo asume un albedo fijo del 20%                                        | Falso   |\n",
    "| sunshine_duration                     | Suma de la hora anterior | Segundos           | Número de segundos de sol de la hora anterior por hora calculado por irradiancia directa normalizada superior a 120 W/m²                                           | Falso   |\n",
    "| wind_speed_10m                        | Instantáneo          | km/h (mph, m/s, nudos) | Velocidad del viento a 10 o 100 metros sobre el nivel del suelo                                                                                                  | Falso   |\n",
    "| wind_speed_100m                       | Instantáneo          | km/h (mph, m/s, nudos) | Velocidad del viento a 10 o 100 metros sobre el nivel del suelo                                                                                                  | Falso   |\n",
    "| wind_direction_10m                    | Instantáneo          | °                   | Dirección del viento a 10 o 100 metros sobre el nivel del suelo                                                                                                   | Falso   |\n",
    "| wind_direction_100m                   | Instantáneo          | °                   | Dirección del viento a 10 o 100 metros sobre el nivel del suelo                                                                                                   | Falso   |\n",
    "| wind_gusts_10m                        | Instantáneo          | km/h (mph, m/s, nudos) | Ráfagas a 10 metros sobre el nivel del suelo de la hora indicada                                                                                                  | Falso   |\n",
    "| et0_fao_evapotranspiration            | Suma de la hora anterior | mm (pulg)          | Evapotranspiración de referencia ET₀ de un campo de césped bien regado. Basado en las ecuaciones FAO-56 Penman-Monteith                                            | Verdadero |\n",
    "| weather_code                          | Instantáneo          | Código WMO          | Condición meteorológica como un código numérico. Seguir los códigos de interpretación meteorológica de la WMO. Ver tabla a continuación para detalles.         | Falso   |\n",
    "| snow_depth                            | Instantáneo          | metros              | Profundidad de nieve en el suelo                                                                                                                                   | Falso   |\n",
    "| vapour_pressure_deficit               | Instantáneo          | kPa                 | Déficit de presión de vapor (VPD) en kilopascales (kPa). Para VPD alto (>1.6), la transpiración de agua de las plantas aumenta.                                   | Verdadero |\n",
    "| soil_temperature_0_to_7cm             | Instantáneo          | °C (°F)             | Temperatura promedio del suelo a 0-7 cm de profundidad por debajo del nivel del suelo                                                                              | Falso   |\n",
    "| soil_temperature_7_to_28cm            | Instantáneo          | °C (°F)             | Temperatura promedio del suelo a 7-28 cm de profundidad por debajo del nivel del suelo                                                                             | Falso   |\n",
    "| soil_temperature_28_to_100cm          | Instantáneo          | °C (°F)             | Temperatura promedio del suelo a 28-100 cm de profundidad por debajo del nivel del suelo                                                                           | Falso   |\n",
    "| soil_temperature_100_to_255cm         | Instantáneo          | °C (°F)             | Temperatura promedio del suelo a 100-255 cm de profundidad por debajo del nivel del suelo                                                                          | Falso   |\n",
    "| soil_moisture_0_to_7cm               | Instantáneo          | m³/m³               | Contenido promedio de agua en el suelo como proporción volumétrica en 0-7 cm de profundidad por debajo del nivel del suelo                                        | Falso   |\n",
    "| soil_moisture_7_to_28cm              | Instantáneo          | m³/m³               | Contenido promedio de agua en el suelo como proporción volumétrica en 7-28 cm de profundidad por debajo del nivel del suelo                                       | Falso   |\n",
    "| soil_moisture_28_to_100cm            | Instantáneo          | m³/m³               | Contenido promedio de agua en el suelo como proporción volumétrica en 28-100 cm de profundidad por debajo del nivel del suelo                                     | Falso   |\n",
    "| soil_moisture_100_to_255cm           | Instantáneo          | m³/m³               | Contenido promedio de agua en el suelo como proporción volumétrica en 100-255 cm de profundidad por debajo del nivel del suelo                                   | Falso   |"
   ]
  },
  {
   "cell_type": "markdown",
   "metadata": {},
   "source": [
    "# Grouped Hourly Parameter Definitions\n",
    "\n",
    "## Atmospheric Conditions\n",
    "| Variable               | Unit        | Description                                                                                  |\n",
    "|------------------------|-------------|----------------------------------------------------------------------------------------------|\n",
    "| temperature_2m         | °C (°F)     | Air temperature at 2 meters above ground                                                    |\n",
    "| relative_humidity_2m   | %           | Relative humidity at 2 meters above ground                                                  |\n",
    "| dew_point_2m           | °C (°F)     | Dew point temperature at 2 meters above ground                                              |\n",
    "| apparent_temperature   | °C (°F)     | Perceived temperature combining wind chill, humidity, and solar radiation                   |\n",
    "| pressure_msl           | hPa         | Atmospheric pressure reduced to mean sea level                                              |\n",
    "| surface_pressure       | hPa         | Surface pressure, lower with increasing elevation                                           |\n",
    "| vapour_pressure_deficit| kPa         | Vapor Pressure Deficit, influencing water transpiration of plants                           |\n",
    "\n",
    "## Precipitation and Snowfall\n",
    "| Variable      | Unit          | Description                                                                                      |\n",
    "|---------------|---------------|--------------------------------------------------------------------------------------------------|\n",
    "| precipitation | mm (inch)     | Total precipitation (rain, showers, snow) sum of the preceding hour                             |\n",
    "| rain          | mm (inch)     | Only liquid precipitation of the preceding hour                                                 |\n",
    "| snowfall      | cm (inch)     | Snowfall amount in centimeters. For water equivalent, divide by 7                               |\n",
    "| snow_depth    | meters        | Snow depth on the ground                                                                         |\n",
    "\n",
    "## Cloud and Solar Radiation\n",
    "| Variable                 | Unit     | Description                                                                                  |\n",
    "|--------------------------|----------|----------------------------------------------------------------------------------------------|\n",
    "| cloud_cover              | %        | Total cloud cover as an area fraction                                                       |\n",
    "| cloud_cover_low          | %        | Low-level clouds and fog up to 2 km altitude                                                |\n",
    "| cloud_cover_mid          | %        | Mid-level clouds from 2 to 6 km altitude                                                    |\n",
    "| cloud_cover_high         | %        | High-level clouds from 6 km altitude                                                        |\n",
    "| shortwave_radiation      | W/m²     | Shortwave solar radiation as average of the preceding hour                                   |\n",
    "| direct_radiation         | W/m²     | Direct solar radiation on horizontal and normal planes                                      |\n",
    "| diffuse_radiation        | W/m²     | Diffuse solar radiation as average of the preceding hour                                    |\n",
    "| global_tilted_irradiance | W/m²     | Total radiation received on a tilted plane                                                  |\n",
    "| sunshine_duration        | Seconds  | Number of seconds of sunshine in the preceding hour                                         |\n",
    "\n",
    "## Wind\n",
    "| Variable                | Unit                      | Description                                                                                  |\n",
    "|-------------------------|---------------------------|----------------------------------------------------------------------------------------------|\n",
    "| wind_speed_10m          | km/h (mph, m/s, knots)    | Wind speed at 10 meters above ground                                                        |\n",
    "| wind_speed_100m         | km/h (mph, m/s, knots)    | Wind speed at 100 meters above ground                                                       |\n",
    "| wind_direction_10m      | °                         | Wind direction at 10 meters above ground                                                    |\n",
    "| wind_direction_100m     | °                         | Wind direction at 100 meters above ground                                                   |\n",
    "| wind_gusts_10m          | km/h (mph, m/s, knots)    | Gusts at 10 meters above ground                                                             |\n",
    "\n",
    "## Soil Parameters\n",
    "| Variable                     | Unit    | Description                                                                                  |\n",
    "|------------------------------|---------|----------------------------------------------------------------------------------------------|\n",
    "| soil_temperature_0_to_7cm    | °C (°F) | Average temperature of soil at 0-7 cm depth                                                 |\n",
    "| soil_temperature_7_to_28cm   | °C (°F) | Average temperature of soil at 7-28 cm depth                                                |\n",
    "| soil_temperature_28_to_100cm | °C (°F) | Average temperature of soil at 28-100 cm depth                                              |\n",
    "| soil_temperature_100_to_255cm| °C (°F) | Average temperature of soil at 100-255 cm depth                                             |\n",
    "| soil_moisture_0_to_7cm       | m³/m³   | Average soil water content as volumetric mixing ratio at 0-7 cm depth                       |\n",
    "| soil_moisture_7_to_28cm      | m³/m³   | Average soil water content as volumetric mixing ratio at 7-28 cm depth                      |\n",
    "| soil_moisture_28_to_100cm    | m³/m³   | Average soil water content as volumetric mixing ratio at 28-100 cm depth                    |\n",
    "| soil_moisture_100_to_255cm   | m³/m³   | Average soil water content as volumetric mixing ratio at 100-255 cm depth                   |\n",
    "\n",
    "## Other Parameters\n",
    "| Variable                     | Unit          | Description                                                                                  |\n",
    "|------------------------------|---------------|----------------------------------------------------------------------------------------------|\n",
    "| et0_fao_evapotranspiration   | mm (inch)     | Reference Evapotranspiration of a well-watered grass field based on FAO-56 Penman-Monteith   |\n",
    "| weather_code                 | WMO code      | Weather condition as a numeric code                                                         |"
   ]
  },
  {
   "cell_type": "markdown",
   "metadata": {},
   "source": [
    "# Definiciones de Parámetros Horarios\n",
    "\n",
    "## Condiciones Atmosféricas\n",
    "| Variable                 | Unidad     | Descripción                                                                                  |\n",
    "|--------------------------|------------|----------------------------------------------------------------------------------------------|\n",
    "| temperature_2m           | °C (°F)    | Temperatura del aire a 2 metros sobre el suelo                                              |\n",
    "| relative_humidity_2m     | %          | Humedad relativa a 2 metros sobre el suelo                                                  |\n",
    "| dew_point_2m             | °C (°F)    | Punto de rocío a 2 metros sobre el suelo                                                    |\n",
    "| apparent_temperature     | °C (°F)    | Temperatura percibida que combina sensación térmica, humedad relativa y radiación solar      |\n",
    "| pressure_msl             | hPa        | Presión atmosférica reducida al nivel medio del mar                                          |\n",
    "| surface_pressure         | hPa        | Presión en la superficie, disminuye con mayor altitud                                       |\n",
    "| vapour_pressure_deficit  | kPa        | Déficit de presión de vapor, afecta la transpiración de las plantas                         |\n",
    "\n",
    "## Precipitación y Nieve\n",
    "| Variable      | Unidad       | Descripción                                                                                      |\n",
    "|---------------|--------------|--------------------------------------------------------------------------------------------------|\n",
    "| precipitation | mm (pulgada) | Precipitación total (lluvia, chubascos, nieve) acumulada en la última hora                       |\n",
    "| rain          | mm (pulgada) | Solo precipitación líquida acumulada en la última hora                                          |\n",
    "| snowfall      | cm (pulgada) | Cantidad de nieve en centímetros. Para el equivalente en agua, dividir por 7                    |\n",
    "| snow_depth    | metros       | Profundidad de la nieve acumulada en el suelo                                                   |\n",
    "\n",
    "## Nubes y Radiación Solar\n",
    "| Variable                 | Unidad    | Descripción                                                                                  |\n",
    "|--------------------------|-----------|----------------------------------------------------------------------------------------------|\n",
    "| cloud_cover              | %         | Cobertura total de nubes como fracción del área                                              |\n",
    "| cloud_cover_low          | %         | Nubes bajas y niebla hasta 2 km de altitud                                                  |\n",
    "| cloud_cover_mid          | %         | Nubes de nivel medio entre 2 y 6 km de altitud                                              |\n",
    "| cloud_cover_high         | %         | Nubes de nivel alto por encima de 6 km de altitud                                           |\n",
    "| shortwave_radiation      | W/m²      | Radiación solar de onda corta como promedio de la última hora                                |\n",
    "| direct_radiation         | W/m²      | Radiación solar directa en planos horizontales y normales                                   |\n",
    "| diffuse_radiation        | W/m²      | Radiación solar difusa como promedio de la última hora                                      |\n",
    "| global_tilted_irradiance | W/m²      | Radiación total recibida en un plano inclinado                                              |\n",
    "| sunshine_duration        | Segundos  | Duración del sol en la última hora medida en segundos                                       |\n",
    "\n",
    "## Viento\n",
    "| Variable                | Unidad                   | Descripción                                                                                  |\n",
    "|-------------------------|--------------------------|----------------------------------------------------------------------------------------------|\n",
    "| wind_speed_10m          | km/h (mph, m/s, nudos)  | Velocidad del viento a 10 metros sobre el suelo                                             |\n",
    "| wind_speed_100m         | km/h (mph, m/s, nudos)  | Velocidad del viento a 100 metros sobre el suelo                                            |\n",
    "| wind_direction_10m      | °                        | Dirección del viento a 10 metros sobre el suelo                                             |\n",
    "| wind_direction_100m     | °                        | Dirección del viento a 100 metros sobre el suelo                                            |\n",
    "| wind_gusts_10m          | km/h (mph, m/s, nudos)  | Ráfagas de viento a 10 metros sobre el suelo                                               |\n",
    "\n",
    "## Parámetros del Suelo\n",
    "| Variable                     | Unidad    | Descripción                                                                                  |\n",
    "|------------------------------|-----------|----------------------------------------------------------------------------------------------|\n",
    "| soil_temperature_0_to_7cm    | °C (°F)   | Temperatura promedio del suelo a 0-7 cm de profundidad                                       |\n",
    "| soil_temperature_7_to_28cm   | °C (°F)   | Temperatura promedio del suelo a 7-28 cm de profundidad                                      |\n",
    "| soil_temperature_28_to_100cm | °C (°F)   | Temperatura promedio del suelo a 28-100 cm de profundidad                                    |\n",
    "| soil_temperature_100_to_255cm| °C (°F)   | Temperatura promedio del suelo a 100-255 cm de profundidad                                   |\n",
    "| soil_moisture_0_to_7cm       | m³/m³     | Contenido promedio de agua en el suelo como proporción volumétrica a 0-7 cm de profundidad   |\n",
    "| soil_moisture_7_to_28cm      | m³/m³     | Contenido promedio de agua en el suelo como proporción volumétrica a 7-28 cm de profundidad  |\n",
    "| soil_moisture_28_to_100cm    | m³/m³     | Contenido promedio de agua en el suelo como proporción volumétrica a 28-100 cm de profundidad|\n",
    "| soil_moisture_100_to_255cm   | m³/m³     | Contenido promedio de agua en el suelo como proporción volumétrica a 100-255 cm de profundidad|\n",
    "\n",
    "## Otros Parámetros\n",
    "| Variable                     | Unidad       | Descripción                                                                                  |\n",
    "|------------------------------|--------------|----------------------------------------------------------------------------------------------|\n",
    "| et0_fao_evapotranspiration   | mm (pulgada) | Evapotranspiración de referencia basada en el modelo FAO-56 Penman-Monteith                 |\n",
    "| weather_code                 | Código WMO   | Condición meteorológica codificada según las normas de la OMM                                |"
   ]
  },
  {
   "cell_type": "code",
   "execution_count": 16,
   "metadata": {},
   "outputs": [
    {
     "data": {
      "application/vnd.plotly.v1+json": {
       "config": {
        "plotlyServerURL": "https://plot.ly"
       },
       "data": [
        {
         "lat": [
          -80,
          -80,
          -80,
          -80,
          -80,
          -80,
          -80,
          -80,
          -80,
          -80,
          -80,
          -80,
          -80,
          -80,
          -80,
          -80,
          -80,
          -80,
          -80,
          -80,
          -80,
          -80,
          -80,
          -80,
          -80,
          -80,
          -80,
          -80,
          -80,
          -80,
          -80,
          -80,
          -80,
          -80,
          -80,
          -80,
          -70,
          -70,
          -70,
          -70,
          -70,
          -70,
          -70,
          -70,
          -70,
          -70,
          -70,
          -70,
          -70,
          -70,
          -70,
          -70,
          -70,
          -70,
          -70,
          -70,
          -70,
          -70,
          -70,
          -70,
          -70,
          -70,
          -70,
          -70,
          -70,
          -70,
          -70,
          -70,
          -70,
          -70,
          -70,
          -70,
          -60,
          -60,
          -60,
          -60,
          -60,
          -60,
          -60,
          -60,
          -60,
          -60,
          -60,
          -60,
          -60,
          -60,
          -60,
          -60,
          -60,
          -60,
          -60,
          -60,
          -60,
          -60,
          -60,
          -60,
          -60,
          -60,
          -60,
          -60,
          -60,
          -60,
          -60,
          -60,
          -60,
          -60,
          -60,
          -60,
          -50,
          -50,
          -50,
          -50,
          -50,
          -50,
          -50,
          -50,
          -50,
          -50,
          -50,
          -50,
          -50,
          -50,
          -50,
          -50,
          -50,
          -50,
          -50,
          -50,
          -50,
          -50,
          -50,
          -50,
          -50,
          -50,
          -50,
          -50,
          -50,
          -50,
          -50,
          -50,
          -50,
          -50,
          -50,
          -50,
          -40,
          -40,
          -40,
          -40,
          -40,
          -40,
          -40,
          -40,
          -40,
          -40,
          -40,
          -40,
          -40,
          -40,
          -40,
          -40,
          -40,
          -40,
          -40,
          -40,
          -40,
          -40,
          -40,
          -40,
          -40,
          -40,
          -40,
          -40,
          -40,
          -40,
          -40,
          -40,
          -40,
          -40,
          -40,
          -40,
          -30,
          -30,
          -30,
          -30,
          -30,
          -30,
          -30,
          -30,
          -30,
          -30,
          -30,
          -30,
          -30,
          -30,
          -30,
          -30,
          -30,
          -30,
          -30,
          -30,
          -30,
          -30,
          -30,
          -30,
          -30,
          -30,
          -30,
          -30,
          -30,
          -30,
          -30,
          -30,
          -30,
          -30,
          -30,
          -30,
          -20,
          -20,
          -20,
          -20,
          -20,
          -20,
          -20,
          -20,
          -20,
          -20,
          -20,
          -20,
          -20,
          -20,
          -20,
          -20,
          -20,
          -20,
          -20,
          -20,
          -20,
          -20,
          -20,
          -20,
          -20,
          -20,
          -20,
          -20,
          -20,
          -20,
          -20,
          -20,
          -20,
          -20,
          -20,
          -20,
          -10,
          -10,
          -10,
          -10,
          -10,
          -10,
          -10,
          -10,
          -10,
          -10,
          -10,
          -10,
          -10,
          -10,
          -10,
          -10,
          -10,
          -10,
          -10,
          -10,
          -10,
          -10,
          -10,
          -10,
          -10,
          -10,
          -10,
          -10,
          -10,
          -10,
          -10,
          -10,
          -10,
          -10,
          -10,
          -10,
          0,
          0,
          0,
          0,
          0,
          0,
          0,
          0,
          0,
          0,
          0,
          0,
          0,
          0,
          0,
          0,
          0,
          0,
          0,
          0,
          0,
          0,
          0,
          0,
          0,
          0,
          0,
          0,
          0,
          0,
          0,
          0,
          0,
          0,
          0,
          0,
          10,
          10,
          10,
          10,
          10,
          10,
          10,
          10,
          10,
          10,
          10,
          10,
          10,
          10,
          10,
          10,
          10,
          10,
          10,
          10,
          10,
          10,
          10,
          10,
          10,
          10,
          10,
          10,
          10,
          10,
          10,
          10,
          10,
          10,
          10,
          10,
          20,
          20,
          20,
          20,
          20,
          20,
          20,
          20,
          20,
          20,
          20,
          20,
          20,
          20,
          20,
          20,
          20,
          20,
          20,
          20,
          20,
          20,
          20,
          20,
          20,
          20,
          20,
          20,
          20,
          20,
          20,
          20,
          20,
          20,
          20,
          20,
          30,
          30,
          30,
          30,
          30,
          30,
          30,
          30,
          30,
          30,
          30,
          30,
          30,
          30,
          30,
          30,
          30,
          30,
          30,
          30,
          30,
          30,
          30,
          30,
          30,
          30,
          30,
          30,
          30,
          30,
          30,
          30,
          30,
          30,
          30,
          30,
          40,
          40,
          40,
          40,
          40,
          40,
          40,
          40,
          40,
          40,
          40,
          40,
          40,
          40,
          40,
          40,
          40,
          40,
          40,
          40,
          40,
          40,
          40,
          40,
          40,
          40,
          40,
          40,
          40,
          40,
          40,
          40,
          40,
          40,
          40,
          40,
          50,
          50,
          50,
          50,
          50,
          50,
          50,
          50,
          50,
          50,
          50,
          50,
          50,
          50,
          50,
          50,
          50,
          50,
          50,
          50,
          50,
          50,
          50,
          50,
          50,
          50,
          50,
          50,
          50,
          50,
          50,
          50,
          50,
          50,
          50,
          50,
          60,
          60,
          60,
          60,
          60,
          60,
          60,
          60,
          60,
          60,
          60,
          60,
          60,
          60,
          60,
          60,
          60,
          60,
          60,
          60,
          60,
          60,
          60,
          60,
          60,
          60,
          60,
          60,
          60,
          60,
          60,
          60,
          60,
          60,
          60,
          60,
          70,
          70,
          70,
          70,
          70,
          70,
          70,
          70,
          70,
          70,
          70,
          70,
          70,
          70,
          70,
          70,
          70,
          70,
          70,
          70,
          70,
          70,
          70,
          70,
          70,
          70,
          70,
          70,
          70,
          70,
          70,
          70,
          70,
          70,
          70,
          70,
          80,
          80,
          80,
          80,
          80,
          80,
          80,
          80,
          80,
          80,
          80,
          80,
          80,
          80,
          80,
          80,
          80,
          80,
          80,
          80,
          80,
          80,
          80,
          80,
          80,
          80,
          80,
          80,
          80,
          80,
          80,
          80,
          80,
          80,
          80,
          80,
          90,
          -90
         ],
         "lon": [
          180,
          -170,
          -160,
          -150,
          -140,
          -130,
          -120,
          -110,
          -100,
          -90,
          -80,
          -70,
          -60,
          -50,
          -40,
          -30,
          -20,
          -10,
          0,
          10,
          20,
          30,
          40,
          50,
          60,
          70,
          80,
          90,
          100,
          110,
          120,
          130,
          140,
          150,
          160,
          170,
          180,
          -170,
          -160,
          -150,
          -140,
          -130,
          -120,
          -110,
          -100,
          -90,
          -80,
          -70,
          -60,
          -50,
          -40,
          -30,
          -20,
          -10,
          0,
          10,
          20,
          30,
          40,
          50,
          60,
          70,
          80,
          90,
          100,
          110,
          120,
          130,
          140,
          150,
          160,
          170,
          180,
          -170,
          -160,
          -150,
          -140,
          -130,
          -120,
          -110,
          -100,
          -90,
          -80,
          -70,
          -60,
          -50,
          -40,
          -30,
          -20,
          -10,
          0,
          10,
          20,
          30,
          40,
          50,
          60,
          70,
          80,
          90,
          100,
          110,
          120,
          130,
          140,
          150,
          160,
          170,
          180,
          -170,
          -160,
          -150,
          -140,
          -130,
          -120,
          -110,
          -100,
          -90,
          -80,
          -70,
          -60,
          -50,
          -40,
          -30,
          -20,
          -10,
          0,
          10,
          20,
          30,
          40,
          50,
          60,
          70,
          80,
          90,
          100,
          110,
          120,
          130,
          140,
          150,
          160,
          170,
          180,
          -170,
          -160,
          -150,
          -140,
          -130,
          -120,
          -110,
          -100,
          -90,
          -80,
          -70,
          -60,
          -50,
          -40,
          -30,
          -20,
          -10,
          0,
          10,
          20,
          30,
          40,
          50,
          60,
          70,
          80,
          90,
          100,
          110,
          120,
          130,
          140,
          150,
          160,
          170,
          180,
          -170,
          -160,
          -150,
          -140,
          -130,
          -120,
          -110,
          -100,
          -90,
          -80,
          -70,
          -60,
          -50,
          -40,
          -30,
          -20,
          -10,
          0,
          10,
          20,
          30,
          40,
          50,
          60,
          70,
          80,
          90,
          100,
          110,
          120,
          130,
          140,
          150,
          160,
          170,
          180,
          -170,
          -160,
          -150,
          -140,
          -130,
          -120,
          -110,
          -100,
          -90,
          -80,
          -70,
          -60,
          -50,
          -40,
          -30,
          -20,
          -10,
          0,
          10,
          20,
          30,
          40,
          50,
          60,
          70,
          80,
          90,
          100,
          110,
          120,
          130,
          140,
          150,
          160,
          170,
          180,
          -170,
          -160,
          -150,
          -140,
          -130,
          -120,
          -110,
          -100,
          -90,
          -80,
          -70,
          -60,
          -50,
          -40,
          -30,
          -20,
          -10,
          0,
          10,
          20,
          30,
          40,
          50,
          60,
          70,
          80,
          90,
          100,
          110,
          120,
          130,
          140,
          150,
          160,
          170,
          180,
          -170,
          -160,
          -150,
          -140,
          -130,
          -120,
          -110,
          -100,
          -90,
          -80,
          -70,
          -60,
          -50,
          -40,
          -30,
          -20,
          -10,
          0,
          10,
          20,
          30,
          40,
          50,
          60,
          70,
          80,
          90,
          100,
          110,
          120,
          130,
          140,
          150,
          160,
          170,
          180,
          -170,
          -160,
          -150,
          -140,
          -130,
          -120,
          -110,
          -100,
          -90,
          -80,
          -70,
          -60,
          -50,
          -40,
          -30,
          -20,
          -10,
          0,
          10,
          20,
          30,
          40,
          50,
          60,
          70,
          80,
          90,
          100,
          110,
          120,
          130,
          140,
          150,
          160,
          170,
          180,
          -170,
          -160,
          -150,
          -140,
          -130,
          -120,
          -110,
          -100,
          -90,
          -80,
          -70,
          -60,
          -50,
          -40,
          -30,
          -20,
          -10,
          0,
          10,
          20,
          30,
          40,
          50,
          60,
          70,
          80,
          90,
          100,
          110,
          120,
          130,
          140,
          150,
          160,
          170,
          180,
          -170,
          -160,
          -150,
          -140,
          -130,
          -120,
          -110,
          -100,
          -90,
          -80,
          -70,
          -60,
          -50,
          -40,
          -30,
          -20,
          -10,
          0,
          10,
          20,
          30,
          40,
          50,
          60,
          70,
          80,
          90,
          100,
          110,
          120,
          130,
          140,
          150,
          160,
          170,
          180,
          -170,
          -160,
          -150,
          -140,
          -130,
          -120,
          -110,
          -100,
          -90,
          -80,
          -70,
          -60,
          -50,
          -40,
          -30,
          -20,
          -10,
          0,
          10,
          20,
          30,
          40,
          50,
          60,
          70,
          80,
          90,
          100,
          110,
          120,
          130,
          140,
          150,
          160,
          170,
          180,
          -170,
          -160,
          -150,
          -140,
          -130,
          -120,
          -110,
          -100,
          -90,
          -80,
          -70,
          -60,
          -50,
          -40,
          -30,
          -20,
          -10,
          0,
          10,
          20,
          30,
          40,
          50,
          60,
          70,
          80,
          90,
          100,
          110,
          120,
          130,
          140,
          150,
          160,
          170,
          180,
          -170,
          -160,
          -150,
          -140,
          -130,
          -120,
          -110,
          -100,
          -90,
          -80,
          -70,
          -60,
          -50,
          -40,
          -30,
          -20,
          -10,
          0,
          10,
          20,
          30,
          40,
          50,
          60,
          70,
          80,
          90,
          100,
          110,
          120,
          130,
          140,
          150,
          160,
          170,
          180,
          -170,
          -160,
          -150,
          -140,
          -130,
          -120,
          -110,
          -100,
          -90,
          -80,
          -70,
          -60,
          -50,
          -40,
          -30,
          -20,
          -10,
          0,
          10,
          20,
          30,
          40,
          50,
          60,
          70,
          80,
          90,
          100,
          110,
          120,
          130,
          140,
          150,
          160,
          170,
          180,
          -170,
          -160,
          -150,
          -140,
          -130,
          -120,
          -110,
          -100,
          -90,
          -80,
          -70,
          -60,
          -50,
          -40,
          -30,
          -20,
          -10,
          0,
          10,
          20,
          30,
          40,
          50,
          60,
          70,
          80,
          90,
          100,
          110,
          120,
          130,
          140,
          150,
          160,
          170,
          0,
          0
         ],
         "marker": {
          "color": "red",
          "size": 3,
          "symbol": "circle"
         },
         "mode": "markers",
         "type": "scattergeo"
        }
       ],
       "layout": {
        "geo": {
         "bgcolor": "lightsteelblue",
         "coastlinecolor": "navy",
         "countrycolor": "darkgreen",
         "lakecolor": "blue",
         "landcolor": "tan",
         "oceancolor": "deepskyblue",
         "projection": {
          "scale": 3,
          "type": "orthographic"
         },
         "rivercolor": "blue",
         "scope": "world",
         "showcountries": true,
         "showland": true,
         "showocean": true
        },
        "height": 1100,
        "template": {
         "data": {
          "bar": [
           {
            "error_x": {
             "color": "#2a3f5f"
            },
            "error_y": {
             "color": "#2a3f5f"
            },
            "marker": {
             "line": {
              "color": "#E5ECF6",
              "width": 0.5
             },
             "pattern": {
              "fillmode": "overlay",
              "size": 10,
              "solidity": 0.2
             }
            },
            "type": "bar"
           }
          ],
          "barpolar": [
           {
            "marker": {
             "line": {
              "color": "#E5ECF6",
              "width": 0.5
             },
             "pattern": {
              "fillmode": "overlay",
              "size": 10,
              "solidity": 0.2
             }
            },
            "type": "barpolar"
           }
          ],
          "carpet": [
           {
            "aaxis": {
             "endlinecolor": "#2a3f5f",
             "gridcolor": "white",
             "linecolor": "white",
             "minorgridcolor": "white",
             "startlinecolor": "#2a3f5f"
            },
            "baxis": {
             "endlinecolor": "#2a3f5f",
             "gridcolor": "white",
             "linecolor": "white",
             "minorgridcolor": "white",
             "startlinecolor": "#2a3f5f"
            },
            "type": "carpet"
           }
          ],
          "choropleth": [
           {
            "colorbar": {
             "outlinewidth": 0,
             "ticks": ""
            },
            "type": "choropleth"
           }
          ],
          "contour": [
           {
            "colorbar": {
             "outlinewidth": 0,
             "ticks": ""
            },
            "colorscale": [
             [
              0,
              "#0d0887"
             ],
             [
              0.1111111111111111,
              "#46039f"
             ],
             [
              0.2222222222222222,
              "#7201a8"
             ],
             [
              0.3333333333333333,
              "#9c179e"
             ],
             [
              0.4444444444444444,
              "#bd3786"
             ],
             [
              0.5555555555555556,
              "#d8576b"
             ],
             [
              0.6666666666666666,
              "#ed7953"
             ],
             [
              0.7777777777777778,
              "#fb9f3a"
             ],
             [
              0.8888888888888888,
              "#fdca26"
             ],
             [
              1,
              "#f0f921"
             ]
            ],
            "type": "contour"
           }
          ],
          "contourcarpet": [
           {
            "colorbar": {
             "outlinewidth": 0,
             "ticks": ""
            },
            "type": "contourcarpet"
           }
          ],
          "heatmap": [
           {
            "colorbar": {
             "outlinewidth": 0,
             "ticks": ""
            },
            "colorscale": [
             [
              0,
              "#0d0887"
             ],
             [
              0.1111111111111111,
              "#46039f"
             ],
             [
              0.2222222222222222,
              "#7201a8"
             ],
             [
              0.3333333333333333,
              "#9c179e"
             ],
             [
              0.4444444444444444,
              "#bd3786"
             ],
             [
              0.5555555555555556,
              "#d8576b"
             ],
             [
              0.6666666666666666,
              "#ed7953"
             ],
             [
              0.7777777777777778,
              "#fb9f3a"
             ],
             [
              0.8888888888888888,
              "#fdca26"
             ],
             [
              1,
              "#f0f921"
             ]
            ],
            "type": "heatmap"
           }
          ],
          "heatmapgl": [
           {
            "colorbar": {
             "outlinewidth": 0,
             "ticks": ""
            },
            "colorscale": [
             [
              0,
              "#0d0887"
             ],
             [
              0.1111111111111111,
              "#46039f"
             ],
             [
              0.2222222222222222,
              "#7201a8"
             ],
             [
              0.3333333333333333,
              "#9c179e"
             ],
             [
              0.4444444444444444,
              "#bd3786"
             ],
             [
              0.5555555555555556,
              "#d8576b"
             ],
             [
              0.6666666666666666,
              "#ed7953"
             ],
             [
              0.7777777777777778,
              "#fb9f3a"
             ],
             [
              0.8888888888888888,
              "#fdca26"
             ],
             [
              1,
              "#f0f921"
             ]
            ],
            "type": "heatmapgl"
           }
          ],
          "histogram": [
           {
            "marker": {
             "pattern": {
              "fillmode": "overlay",
              "size": 10,
              "solidity": 0.2
             }
            },
            "type": "histogram"
           }
          ],
          "histogram2d": [
           {
            "colorbar": {
             "outlinewidth": 0,
             "ticks": ""
            },
            "colorscale": [
             [
              0,
              "#0d0887"
             ],
             [
              0.1111111111111111,
              "#46039f"
             ],
             [
              0.2222222222222222,
              "#7201a8"
             ],
             [
              0.3333333333333333,
              "#9c179e"
             ],
             [
              0.4444444444444444,
              "#bd3786"
             ],
             [
              0.5555555555555556,
              "#d8576b"
             ],
             [
              0.6666666666666666,
              "#ed7953"
             ],
             [
              0.7777777777777778,
              "#fb9f3a"
             ],
             [
              0.8888888888888888,
              "#fdca26"
             ],
             [
              1,
              "#f0f921"
             ]
            ],
            "type": "histogram2d"
           }
          ],
          "histogram2dcontour": [
           {
            "colorbar": {
             "outlinewidth": 0,
             "ticks": ""
            },
            "colorscale": [
             [
              0,
              "#0d0887"
             ],
             [
              0.1111111111111111,
              "#46039f"
             ],
             [
              0.2222222222222222,
              "#7201a8"
             ],
             [
              0.3333333333333333,
              "#9c179e"
             ],
             [
              0.4444444444444444,
              "#bd3786"
             ],
             [
              0.5555555555555556,
              "#d8576b"
             ],
             [
              0.6666666666666666,
              "#ed7953"
             ],
             [
              0.7777777777777778,
              "#fb9f3a"
             ],
             [
              0.8888888888888888,
              "#fdca26"
             ],
             [
              1,
              "#f0f921"
             ]
            ],
            "type": "histogram2dcontour"
           }
          ],
          "mesh3d": [
           {
            "colorbar": {
             "outlinewidth": 0,
             "ticks": ""
            },
            "type": "mesh3d"
           }
          ],
          "parcoords": [
           {
            "line": {
             "colorbar": {
              "outlinewidth": 0,
              "ticks": ""
             }
            },
            "type": "parcoords"
           }
          ],
          "pie": [
           {
            "automargin": true,
            "type": "pie"
           }
          ],
          "scatter": [
           {
            "fillpattern": {
             "fillmode": "overlay",
             "size": 10,
             "solidity": 0.2
            },
            "type": "scatter"
           }
          ],
          "scatter3d": [
           {
            "line": {
             "colorbar": {
              "outlinewidth": 0,
              "ticks": ""
             }
            },
            "marker": {
             "colorbar": {
              "outlinewidth": 0,
              "ticks": ""
             }
            },
            "type": "scatter3d"
           }
          ],
          "scattercarpet": [
           {
            "marker": {
             "colorbar": {
              "outlinewidth": 0,
              "ticks": ""
             }
            },
            "type": "scattercarpet"
           }
          ],
          "scattergeo": [
           {
            "marker": {
             "colorbar": {
              "outlinewidth": 0,
              "ticks": ""
             }
            },
            "type": "scattergeo"
           }
          ],
          "scattergl": [
           {
            "marker": {
             "colorbar": {
              "outlinewidth": 0,
              "ticks": ""
             }
            },
            "type": "scattergl"
           }
          ],
          "scattermapbox": [
           {
            "marker": {
             "colorbar": {
              "outlinewidth": 0,
              "ticks": ""
             }
            },
            "type": "scattermapbox"
           }
          ],
          "scatterpolar": [
           {
            "marker": {
             "colorbar": {
              "outlinewidth": 0,
              "ticks": ""
             }
            },
            "type": "scatterpolar"
           }
          ],
          "scatterpolargl": [
           {
            "marker": {
             "colorbar": {
              "outlinewidth": 0,
              "ticks": ""
             }
            },
            "type": "scatterpolargl"
           }
          ],
          "scatterternary": [
           {
            "marker": {
             "colorbar": {
              "outlinewidth": 0,
              "ticks": ""
             }
            },
            "type": "scatterternary"
           }
          ],
          "surface": [
           {
            "colorbar": {
             "outlinewidth": 0,
             "ticks": ""
            },
            "colorscale": [
             [
              0,
              "#0d0887"
             ],
             [
              0.1111111111111111,
              "#46039f"
             ],
             [
              0.2222222222222222,
              "#7201a8"
             ],
             [
              0.3333333333333333,
              "#9c179e"
             ],
             [
              0.4444444444444444,
              "#bd3786"
             ],
             [
              0.5555555555555556,
              "#d8576b"
             ],
             [
              0.6666666666666666,
              "#ed7953"
             ],
             [
              0.7777777777777778,
              "#fb9f3a"
             ],
             [
              0.8888888888888888,
              "#fdca26"
             ],
             [
              1,
              "#f0f921"
             ]
            ],
            "type": "surface"
           }
          ],
          "table": [
           {
            "cells": {
             "fill": {
              "color": "#EBF0F8"
             },
             "line": {
              "color": "white"
             }
            },
            "header": {
             "fill": {
              "color": "#C8D4E3"
             },
             "line": {
              "color": "white"
             }
            },
            "type": "table"
           }
          ]
         },
         "layout": {
          "annotationdefaults": {
           "arrowcolor": "#2a3f5f",
           "arrowhead": 0,
           "arrowwidth": 1
          },
          "autotypenumbers": "strict",
          "coloraxis": {
           "colorbar": {
            "outlinewidth": 0,
            "ticks": ""
           }
          },
          "colorscale": {
           "diverging": [
            [
             0,
             "#8e0152"
            ],
            [
             0.1,
             "#c51b7d"
            ],
            [
             0.2,
             "#de77ae"
            ],
            [
             0.3,
             "#f1b6da"
            ],
            [
             0.4,
             "#fde0ef"
            ],
            [
             0.5,
             "#f7f7f7"
            ],
            [
             0.6,
             "#e6f5d0"
            ],
            [
             0.7,
             "#b8e186"
            ],
            [
             0.8,
             "#7fbc41"
            ],
            [
             0.9,
             "#4d9221"
            ],
            [
             1,
             "#276419"
            ]
           ],
           "sequential": [
            [
             0,
             "#0d0887"
            ],
            [
             0.1111111111111111,
             "#46039f"
            ],
            [
             0.2222222222222222,
             "#7201a8"
            ],
            [
             0.3333333333333333,
             "#9c179e"
            ],
            [
             0.4444444444444444,
             "#bd3786"
            ],
            [
             0.5555555555555556,
             "#d8576b"
            ],
            [
             0.6666666666666666,
             "#ed7953"
            ],
            [
             0.7777777777777778,
             "#fb9f3a"
            ],
            [
             0.8888888888888888,
             "#fdca26"
            ],
            [
             1,
             "#f0f921"
            ]
           ],
           "sequentialminus": [
            [
             0,
             "#0d0887"
            ],
            [
             0.1111111111111111,
             "#46039f"
            ],
            [
             0.2222222222222222,
             "#7201a8"
            ],
            [
             0.3333333333333333,
             "#9c179e"
            ],
            [
             0.4444444444444444,
             "#bd3786"
            ],
            [
             0.5555555555555556,
             "#d8576b"
            ],
            [
             0.6666666666666666,
             "#ed7953"
            ],
            [
             0.7777777777777778,
             "#fb9f3a"
            ],
            [
             0.8888888888888888,
             "#fdca26"
            ],
            [
             1,
             "#f0f921"
            ]
           ]
          },
          "colorway": [
           "#636efa",
           "#EF553B",
           "#00cc96",
           "#ab63fa",
           "#FFA15A",
           "#19d3f3",
           "#FF6692",
           "#B6E880",
           "#FF97FF",
           "#FECB52"
          ],
          "font": {
           "color": "#2a3f5f"
          },
          "geo": {
           "bgcolor": "white",
           "lakecolor": "white",
           "landcolor": "#E5ECF6",
           "showlakes": true,
           "showland": true,
           "subunitcolor": "white"
          },
          "hoverlabel": {
           "align": "left"
          },
          "hovermode": "closest",
          "mapbox": {
           "style": "light"
          },
          "paper_bgcolor": "white",
          "plot_bgcolor": "#E5ECF6",
          "polar": {
           "angularaxis": {
            "gridcolor": "white",
            "linecolor": "white",
            "ticks": ""
           },
           "bgcolor": "#E5ECF6",
           "radialaxis": {
            "gridcolor": "white",
            "linecolor": "white",
            "ticks": ""
           }
          },
          "scene": {
           "xaxis": {
            "backgroundcolor": "#E5ECF6",
            "gridcolor": "white",
            "gridwidth": 2,
            "linecolor": "white",
            "showbackground": true,
            "ticks": "",
            "zerolinecolor": "white"
           },
           "yaxis": {
            "backgroundcolor": "#E5ECF6",
            "gridcolor": "white",
            "gridwidth": 2,
            "linecolor": "white",
            "showbackground": true,
            "ticks": "",
            "zerolinecolor": "white"
           },
           "zaxis": {
            "backgroundcolor": "#E5ECF6",
            "gridcolor": "white",
            "gridwidth": 2,
            "linecolor": "white",
            "showbackground": true,
            "ticks": "",
            "zerolinecolor": "white"
           }
          },
          "shapedefaults": {
           "line": {
            "color": "#2a3f5f"
           }
          },
          "ternary": {
           "aaxis": {
            "gridcolor": "white",
            "linecolor": "white",
            "ticks": ""
           },
           "baxis": {
            "gridcolor": "white",
            "linecolor": "white",
            "ticks": ""
           },
           "bgcolor": "#E5ECF6",
           "caxis": {
            "gridcolor": "white",
            "linecolor": "white",
            "ticks": ""
           }
          },
          "title": {
           "x": 0.05
          },
          "xaxis": {
           "automargin": true,
           "gridcolor": "white",
           "linecolor": "white",
           "ticks": "",
           "title": {
            "standoff": 15
           },
           "zerolinecolor": "white",
           "zerolinewidth": 2
          },
          "yaxis": {
           "automargin": true,
           "gridcolor": "white",
           "linecolor": "white",
           "ticks": "",
           "title": {
            "standoff": 15
           },
           "zerolinecolor": "white",
           "zerolinewidth": 2
          }
         }
        },
        "title": {
         "text": "Mapa Interactivo de la Tierra con Locaciones Uniformes (Incluyendo Polos)"
        },
        "width": 1100
       }
      }
     },
     "metadata": {},
     "output_type": "display_data"
    }
   ],
   "source": [
    "import plotly.graph_objects as go\n",
    "\n",
    "# Generar puntos uniformemente distribuidos en una esfera terrestre\n",
    "locations = []\n",
    "step = 10  # Intervalo en grados\n",
    "\n",
    "# Iterar sobre latitudes de -90° a 90° y longitudes de -180° a 180° (evitando duplicados)\n",
    "for lat in range(-90, 91, step):  # Latitudes (-90 a 90)\n",
    "    for lon in range(-180, 181, step):\n",
    "        # Evitar duplicados en los bordes\n",
    "        if lon == 180 or lon == -180:\n",
    "            lon = 180  # Usar siempre 180° como referencia\n",
    "        if lat == 90 or lat == -90:\n",
    "            continue  # Excluir polos para añadirlos manualmente\n",
    "        locations.append({\"name\": f\"Point ({lat}, {lon})\", \"latitude\": lat, \"longitude\": lon})\n",
    "\n",
    "# Agregar manualmente el Polo Norte y Polo Sur\n",
    "locations.append({\"name\": \"North Pole\", \"latitude\": 90, \"longitude\": 0})\n",
    "locations.append({\"name\": \"South Pole\", \"latitude\": -90, \"longitude\": 0})\n",
    "\n",
    "# Eliminar puntos duplicados\n",
    "unique_locations = {f\"{loc['latitude']}_{loc['longitude']}\": loc for loc in locations}.values()\n",
    "\n",
    "# Coordenadas y nombres únicos extraídos de la lista de ubicaciones\n",
    "lons = [loc[\"longitude\"] for loc in unique_locations]\n",
    "lats = [loc[\"latitude\"] for loc in unique_locations]\n",
    "\n",
    "# Crear la figura\n",
    "fig = go.Figure(go.Scattergeo(\n",
    "    lon=lons,\n",
    "    lat=lats,\n",
    "    mode='markers',  # Solo marcadores, sin texto\n",
    "    marker=dict(color='red', size=3, symbol='circle'),\n",
    "))\n",
    "\n",
    "# Configurar la proyección ortográfica y colores personalizados\n",
    "fig.update_geos(\n",
    "    projection_type=\"orthographic\",\n",
    "    landcolor='tan',           # Color de los continentes\n",
    "    oceancolor='deepskyblue',  # Color de los océanos\n",
    "    showland=True,             # Mostrar continentes\n",
    "    showocean=True,            # Mostrar océanos\n",
    "    lakecolor='blue',          # Color de los lagos\n",
    "    rivercolor='blue',         # Color de los ríos\n",
    "    bgcolor='lightsteelblue',  # Fondo general del mapa\n",
    "    showcountries=True,        # Mostrar países\n",
    "    countrycolor=\"darkgreen\",  # Color de las fronteras de países\n",
    "    coastlinecolor=\"navy\",     # Color de las costas\n",
    ")\n",
    "\n",
    "# Ajustar el tamaño de la figura y título\n",
    "fig.update_layout(\n",
    "    title=\"Mapa Interactivo de la Tierra con Locaciones Uniformes (Incluyendo Polos)\",\n",
    "    geo=dict(\n",
    "        scope=\"world\",\n",
    "        projection_scale=3,  # Ajusta el tamaño de la proyección\n",
    "    ),\n",
    "    width=1100,  # Ancho de la figura\n",
    "    height=1100,  # Alto de la figura\n",
    ")\n",
    "\n",
    "# Mostrar el gráfico\n",
    "fig.show()"
   ]
  },
  {
   "cell_type": "code",
   "execution_count": 56,
   "metadata": {},
   "outputs": [
    {
     "name": "stdout",
     "output_type": "stream",
     "text": [
      "Data for all locations has been saved to 'weather_data_with_regions.csv'\n"
     ]
    }
   ],
   "source": [
    "import openmeteo_requests\n",
    "import requests_cache\n",
    "import pandas as pd\n",
    "from retry_requests import retry\n",
    "\n",
    "# Setup the Open-Meteo API client with cache and retry on error\n",
    "cache_session = requests_cache.CachedSession('.cache', expire_after = -1)\n",
    "retry_session = retry(cache_session, retries = 5, backoff_factor = 0.2)\n",
    "openmeteo = openmeteo_requests.Client(session = retry_session)\n",
    "\n",
    "# Lista de ubicaciones clave (Polo Norte, Polo Sur, Ecuador, Este, Oeste)\n",
    "locations = [\n",
    "    {\"name\": \"North Pole\", \"latitude\": 90.0, \"longitude\": 0.0},\n",
    "    {\"name\": \"South Pole\", \"latitude\": -90.0, \"longitude\": 0.0},\n",
    "    {\"name\": \"Equator\", \"latitude\": 0.0, \"longitude\": 0.0},\n",
    "    {\"name\": \"East\", \"latitude\": 0.0, \"longitude\": 90.0},\n",
    "    {\"name\": \"West\", \"latitude\": 0.0, \"longitude\": -90.0},\n",
    "]\n",
    "\n",
    "# Make sure all required weather variables are listed here\n",
    "url = \"https://archive-api.open-meteo.com/v1/archive\"\n",
    "params = {\n",
    "    \"latitude\": 52.52,\n",
    "    \"longitude\": 13.41,\n",
    "    \"start_date\": \"1940-01-01\",\n",
    "    \"end_date\": \"1940-01-02\",\n",
    "    \"hourly\": \"temperature_2m,relative_humidity_2m,dew_point_2m,precipitation,rain,soil_moisture_0_to_7cm,soil_moisture_7_to_28cm,et0_fao_evapotranspiration,vapor_pressure_deficit\"\n",
    "}\n",
    "\n",
    "# Function to classify the time of day based on the hour\n",
    "def classify_time_of_day(hour):\n",
    "    if 0 <= hour < 6:\n",
    "        return \"Madrugada\"\n",
    "    elif 6 <= hour < 12:\n",
    "        return \"Mañana\"\n",
    "    elif 12 <= hour < 18:\n",
    "        return \"Tarde\"\n",
    "    else:\n",
    "        return \"Noche\"\n",
    "\n",
    "# Create an empty list to collect all data\n",
    "all_data = []\n",
    "\n",
    "# Iterate over each location to get weather data for each\n",
    "for location in locations:\n",
    "    params[\"latitude\"] = location[\"latitude\"]\n",
    "    params[\"longitude\"] = location[\"longitude\"]\n",
    "    \n",
    "    # Fetch the weather data\n",
    "    responses = openmeteo.weather_api(url, params=params)\n",
    "    \n",
    "    # Process first response\n",
    "    response = responses[0]\n",
    "    \n",
    "    # Process hourly data\n",
    "    hourly = response.Hourly()\n",
    "    hourly_temperature_2m = hourly.Variables(0).ValuesAsNumpy()\n",
    "    hourly_relative_humidity_2m = hourly.Variables(1).ValuesAsNumpy()\n",
    "    hourly_dew_point_2m = hourly.Variables(2).ValuesAsNumpy()\n",
    "    hourly_precipitation = hourly.Variables(3).ValuesAsNumpy()\n",
    "    hourly_rain = hourly.Variables(4).ValuesAsNumpy()\n",
    "    hourly_soil_moisture_0_to_7cm = hourly.Variables(5).ValuesAsNumpy()\n",
    "    hourly_soil_moisture_7_to_28cm = hourly.Variables(6).ValuesAsNumpy()\n",
    "    hourly_et0 = hourly.Variables(7).ValuesAsNumpy()\n",
    "    hourly_vapor_pressure_deficit = hourly.Variables(8).ValuesAsNumpy()\n",
    "\n",
    "    # Create DataFrame with hourly data\n",
    "    hourly_data = {\n",
    "        \"date\": pd.to_datetime(hourly.Time(), unit=\"s\", utc=True),\n",
    "        \"temperature_2m\": hourly_temperature_2m,\n",
    "        \"relative_humidity_2m\": hourly_relative_humidity_2m,\n",
    "        \"dew_point_2m\": hourly_dew_point_2m,\n",
    "        \"precipitation\": hourly_precipitation,\n",
    "        \"rain\": hourly_rain,\n",
    "        \"soil_moisture_0_to_7cm\": hourly_soil_moisture_0_to_7cm,\n",
    "        \"soil_moisture_7_to_28cm\": hourly_soil_moisture_7_to_28cm,\n",
    "        \"et0_fao_evapotranspiration\": hourly_et0,\n",
    "        \"vapor_pressure_deficit\": hourly_vapor_pressure_deficit,\n",
    "    }\n",
    "\n",
    "    hourly_dataframe = pd.DataFrame(data=hourly_data)\n",
    "    \n",
    "    # Add the \"time_of_day\" column based on the hour of the day\n",
    "    hourly_dataframe[\"time_of_day\"] = hourly_dataframe[\"date\"].dt.hour.apply(classify_time_of_day)\n",
    "    \n",
    "    # Add the \"region\" column for the location\n",
    "    hourly_dataframe[\"region\"] = location[\"name\"]\n",
    "    \n",
    "    # Append the data to the list\n",
    "    all_data.append(hourly_dataframe)\n",
    "\n",
    "# Concatenate all data into a single DataFrame\n",
    "final_dataframe = pd.concat(all_data, ignore_index=True)\n",
    "\n",
    "# Format the 'date' column to only include year, month, and day\n",
    "final_dataframe['date'] = final_dataframe['date'].dt.strftime('%Y-%m-%d')\n",
    "\n",
    "# Save to CSV file\n",
    "final_dataframe.to_csv(\"weather_data_with_regions.csv\", index=False)\n",
    "\n",
    "print(\"Data for all locations has been saved to 'weather_data_with_regions.csv'\")"
   ]
  }
 ],
 "metadata": {
  "kernelspec": {
   "display_name": "Python 3",
   "language": "python",
   "name": "python3"
  },
  "language_info": {
   "codemirror_mode": {
    "name": "ipython",
    "version": 3
   },
   "file_extension": ".py",
   "mimetype": "text/x-python",
   "name": "python",
   "nbconvert_exporter": "python",
   "pygments_lexer": "ipython3",
   "version": "3.12.5"
  }
 },
 "nbformat": 4,
 "nbformat_minor": 2
}
